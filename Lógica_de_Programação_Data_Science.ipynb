{
  "nbformat": 4,
  "nbformat_minor": 0,
  "metadata": {
    "colab": {
      "name": "Lógica de Programação - Data Science.ipynb",
      "provenance": [],
      "collapsed_sections": [
        "j8CQeOTvWGsg",
        "vs-vaUe8WM2E",
        "AEfr2UVbrEv6",
        "6tg-CuG7v8Wc",
        "vbwNRUgBwtdP"
      ],
      "authorship_tag": "ABX9TyN1vdjVh04BkGoL66V5dFCc",
      "include_colab_link": true
    },
    "kernelspec": {
      "name": "python3",
      "display_name": "Python 3"
    },
    "language_info": {
      "name": "python"
    }
  },
  "cells": [
    {
      "cell_type": "markdown",
      "metadata": {
        "id": "view-in-github",
        "colab_type": "text"
      },
      "source": [
        "<a href=\"https://colab.research.google.com/github/robsonleal/data_science/blob/main/L%C3%B3gica_de_Programa%C3%A7%C3%A3o_Data_Science.ipynb\" target=\"_parent\"><img src=\"https://colab.research.google.com/assets/colab-badge.svg\" alt=\"Open In Colab\"/></a>"
      ]
    },
    {
      "cell_type": "markdown",
      "source": [
        "# Lógica de programação com Python"
      ],
      "metadata": {
        "id": "uRbz1RBDQOaB"
      }
    },
    {
      "cell_type": "code",
      "source": [
        "1+1"
      ],
      "metadata": {
        "colab": {
          "base_uri": "https://localhost:8080/"
        },
        "id": "o7__ADw5QSI0",
        "outputId": "9623eb4c-7ae3-478c-847c-fa814d35f8f7"
      },
      "execution_count": null,
      "outputs": [
        {
          "output_type": "execute_result",
          "data": {
            "text/plain": [
              "2"
            ]
          },
          "metadata": {},
          "execution_count": 1
        }
      ]
    },
    {
      "cell_type": "code",
      "source": [
        "'Robson'"
      ],
      "metadata": {
        "colab": {
          "base_uri": "https://localhost:8080/",
          "height": 35
        },
        "id": "7-nRt9sDQaCA",
        "outputId": "8bd37a94-e4fe-4ebf-f82f-d7d6cab22687"
      },
      "execution_count": null,
      "outputs": [
        {
          "output_type": "execute_result",
          "data": {
            "application/vnd.google.colaboratory.intrinsic+json": {
              "type": "string"
            },
            "text/plain": [
              "'Robson'"
            ]
          },
          "metadata": {},
          "execution_count": 3
        }
      ]
    },
    {
      "cell_type": "code",
      "source": [
        "nome = 'Robson Leal'"
      ],
      "metadata": {
        "id": "N1ut42_KQho-"
      },
      "execution_count": null,
      "outputs": []
    },
    {
      "cell_type": "code",
      "source": [
        "idade = 26"
      ],
      "metadata": {
        "id": "9zYLdWcPSAH9"
      },
      "execution_count": null,
      "outputs": []
    },
    {
      "cell_type": "code",
      "source": [
        "print(f'Olá! Meu nome é {nome} e minha idade é {idade} anos.')"
      ],
      "metadata": {
        "colab": {
          "base_uri": "https://localhost:8080/"
        },
        "id": "hzoNW0UcSLOZ",
        "outputId": "03a7f238-92b4-4a22-fd36-22c8517d4ede"
      },
      "execution_count": null,
      "outputs": [
        {
          "output_type": "stream",
          "name": "stdout",
          "text": [
            "Olá! Meu nome é Robson Leal e minha idade é 26 anos.\n"
          ]
        }
      ]
    },
    {
      "cell_type": "markdown",
      "source": [
        "## Criando funções:"
      ],
      "metadata": {
        "id": "j8CQeOTvWGsg"
      }
    },
    {
      "cell_type": "code",
      "source": [
        "def saudacao():\n",
        "  nome = input('Qual o seu nome? ')\n",
        "  idade = input('Qual a sua idade? ')\n",
        "  print(f'Seu nome é {nome} e sua idade é {idade} anos.')"
      ],
      "metadata": {
        "id": "rVNB-avnSUD0"
      },
      "execution_count": null,
      "outputs": []
    },
    {
      "cell_type": "code",
      "source": [
        "saudacao()"
      ],
      "metadata": {
        "colab": {
          "base_uri": "https://localhost:8080/"
        },
        "id": "zhLuxBO_S2m-",
        "outputId": "40997be7-34e4-4fdb-d6a9-37aaaa20270e"
      },
      "execution_count": null,
      "outputs": [
        {
          "output_type": "stream",
          "name": "stdout",
          "text": [
            "Qual o seu nome? Robson Leal\n",
            "Qual a sua idade? 26\n",
            "Seu nome é Robson Leal e sua idade é 26 anos.\n"
          ]
        }
      ]
    },
    {
      "cell_type": "code",
      "source": [
        "def saudacao_com_parametro(nome_da_pessoa):\n",
        "  print(f'Olá! {nome_da_pessoa}!')"
      ],
      "metadata": {
        "id": "sYIw_qalS5HK"
      },
      "execution_count": null,
      "outputs": []
    },
    {
      "cell_type": "code",
      "source": [
        "nome_criado = 'João Batista'"
      ],
      "metadata": {
        "id": "RedoyadjU85E"
      },
      "execution_count": null,
      "outputs": []
    },
    {
      "cell_type": "code",
      "source": [
        "saudacao_com_parametro(nome_criado)"
      ],
      "metadata": {
        "colab": {
          "base_uri": "https://localhost:8080/"
        },
        "id": "0y4YG303VBwR",
        "outputId": "7daf7324-7eb0-49eb-9377-3fe2dfcf8ff6"
      },
      "execution_count": null,
      "outputs": [
        {
          "output_type": "stream",
          "name": "stdout",
          "text": [
            "Olá! João Batista!\n"
          ]
        }
      ]
    },
    {
      "cell_type": "code",
      "source": [
        "nome_criado_segundo = 'João Guilherme'"
      ],
      "metadata": {
        "id": "a1Q5T7UeVDpx"
      },
      "execution_count": null,
      "outputs": []
    },
    {
      "cell_type": "code",
      "source": [
        "saudacao_com_parametro(nome_criado_segundo)"
      ],
      "metadata": {
        "colab": {
          "base_uri": "https://localhost:8080/"
        },
        "id": "PKeipMTJVT2M",
        "outputId": "7e79c155-bb4d-4e29-9884-819aceb12795"
      },
      "execution_count": null,
      "outputs": [
        {
          "output_type": "stream",
          "name": "stdout",
          "text": [
            "Olá! João Guilherme!\n"
          ]
        }
      ]
    },
    {
      "cell_type": "markdown",
      "source": [
        "## Condicionais:"
      ],
      "metadata": {
        "id": "vs-vaUe8WM2E"
      }
    },
    {
      "cell_type": "code",
      "source": [
        "idade = 20\n",
        "\n",
        "def verifica_se_pode_dirigir(idade):\n",
        "  if idade >= 18:\n",
        "    print('Pode dirigir!')\n",
        "  else:\n",
        "    print('Não pode dirigir!')\n",
        "\n",
        "verifica_se_pode_dirigir(idade)"
      ],
      "metadata": {
        "colab": {
          "base_uri": "https://localhost:8080/"
        },
        "id": "9OG6dJeAVXBX",
        "outputId": "e3ace3e7-d150-4135-9a1b-ff342c7d2131"
      },
      "execution_count": null,
      "outputs": [
        {
          "output_type": "stream",
          "name": "stdout",
          "text": [
            "Pode dirigir!\n"
          ]
        }
      ]
    },
    {
      "cell_type": "code",
      "source": [
        "def verifica_se_pode_dirigir_sem_parametro():\n",
        "  idade = int(input('Qual sua idade? '))\n",
        "\n",
        "  if idade >= 18:\n",
        "    print('Pode dirigir!')\n",
        "  else:\n",
        "    print('Não pode dirigir!')\n",
        "\n",
        "verifica_se_pode_dirigir_sem_parametro()"
      ],
      "metadata": {
        "colab": {
          "base_uri": "https://localhost:8080/"
        },
        "id": "SYGYlfhNWww4",
        "outputId": "72d0d2b7-dd87-4306-83ad-c8f1a6c02c54"
      },
      "execution_count": null,
      "outputs": [
        {
          "output_type": "stream",
          "name": "stdout",
          "text": [
            "Qual sua idade? 20\n",
            "Pode dirigir!\n"
          ]
        }
      ]
    },
    {
      "cell_type": "markdown",
      "source": [
        "## Lists"
      ],
      "metadata": {
        "id": "AEfr2UVbrEv6"
      }
    },
    {
      "cell_type": "code",
      "source": [
        "idades = [25, 18, 30, 15, 13]"
      ],
      "metadata": {
        "id": "uYhByxx4YP64"
      },
      "execution_count": null,
      "outputs": []
    },
    {
      "cell_type": "code",
      "source": [
        "idades[0]"
      ],
      "metadata": {
        "colab": {
          "base_uri": "https://localhost:8080/"
        },
        "id": "dywViJamsDmI",
        "outputId": "41d2019c-3d39-456a-ded7-0f2761514f6b"
      },
      "execution_count": null,
      "outputs": [
        {
          "output_type": "execute_result",
          "data": {
            "text/plain": [
              "25"
            ]
          },
          "metadata": {},
          "execution_count": 30
        }
      ]
    },
    {
      "cell_type": "code",
      "source": [
        "idades[1:]"
      ],
      "metadata": {
        "colab": {
          "base_uri": "https://localhost:8080/"
        },
        "id": "2uvSuuR4thXQ",
        "outputId": "141c016d-9a34-42ba-f9eb-a65245e52992"
      },
      "execution_count": null,
      "outputs": [
        {
          "output_type": "execute_result",
          "data": {
            "text/plain": [
              "[18, 30, 15, 13]"
            ]
          },
          "metadata": {},
          "execution_count": 29
        }
      ]
    },
    {
      "cell_type": "code",
      "source": [
        "idades[0] = 'hello'"
      ],
      "metadata": {
        "id": "-ZQb3OEDtjbH"
      },
      "execution_count": null,
      "outputs": []
    },
    {
      "cell_type": "code",
      "source": [
        "idades"
      ],
      "metadata": {
        "colab": {
          "base_uri": "https://localhost:8080/"
        },
        "id": "ReKQD8ymtrWD",
        "outputId": "a168e3af-531b-43fd-924b-247c95bb5af1"
      },
      "execution_count": null,
      "outputs": [
        {
          "output_type": "execute_result",
          "data": {
            "text/plain": [
              "['hello', 18, 30, 15, 13]"
            ]
          },
          "metadata": {},
          "execution_count": 37
        }
      ]
    },
    {
      "cell_type": "code",
      "source": [
        "idades.pop()"
      ],
      "metadata": {
        "colab": {
          "base_uri": "https://localhost:8080/"
        },
        "id": "r_NolQyftveX",
        "outputId": "a53b0199-a659-4448-b3ab-ddb8ac4ff9c2"
      },
      "execution_count": null,
      "outputs": [
        {
          "output_type": "execute_result",
          "data": {
            "text/plain": [
              "13"
            ]
          },
          "metadata": {},
          "execution_count": 54
        }
      ]
    },
    {
      "cell_type": "code",
      "source": [
        "idades.remove('hello')"
      ],
      "metadata": {
        "id": "hjBAfajbt7cy"
      },
      "execution_count": null,
      "outputs": []
    },
    {
      "cell_type": "code",
      "source": [
        "idades"
      ],
      "metadata": {
        "colab": {
          "base_uri": "https://localhost:8080/"
        },
        "id": "7Pz8uzeRt-pD",
        "outputId": "30549606-4bf5-4f31-cb7b-9c8d68721f9f"
      },
      "execution_count": null,
      "outputs": [
        {
          "output_type": "execute_result",
          "data": {
            "text/plain": [
              "[18, 30, 15]"
            ]
          },
          "metadata": {},
          "execution_count": 40
        }
      ]
    },
    {
      "cell_type": "code",
      "source": [
        "idades.insert(1, 'hello')"
      ],
      "metadata": {
        "id": "VtZC5KdQuAu-"
      },
      "execution_count": null,
      "outputs": []
    },
    {
      "cell_type": "code",
      "source": [
        "idades"
      ],
      "metadata": {
        "colab": {
          "base_uri": "https://localhost:8080/"
        },
        "id": "mjnP8Kc_uEyW",
        "outputId": "7290653e-8c3a-40ba-8128-bd9f727231a8"
      },
      "execution_count": null,
      "outputs": [
        {
          "output_type": "execute_result",
          "data": {
            "text/plain": [
              "['hello', 18, 30, 15]"
            ]
          },
          "metadata": {},
          "execution_count": 55
        }
      ]
    },
    {
      "cell_type": "code",
      "source": [
        "idades.append(30.5)"
      ],
      "metadata": {
        "id": "UGGprswy0bcp"
      },
      "execution_count": null,
      "outputs": []
    },
    {
      "cell_type": "code",
      "source": [
        "print(idades)\n",
        "\n",
        "for i in idades:\n",
        "  print(type(i))"
      ],
      "metadata": {
        "colab": {
          "base_uri": "https://localhost:8080/"
        },
        "id": "hr47aKUa0xP0",
        "outputId": "2af68b46-cb50-4750-e8e1-bed730b613fd"
      },
      "execution_count": null,
      "outputs": [
        {
          "output_type": "stream",
          "name": "stdout",
          "text": [
            "['hello', 18, 30, 15, 30.5]\n",
            "<class 'str'>\n",
            "<class 'int'>\n",
            "<class 'int'>\n",
            "<class 'int'>\n",
            "<class 'float'>\n"
          ]
        }
      ]
    },
    {
      "cell_type": "markdown",
      "source": [
        "## Laços de repetição"
      ],
      "metadata": {
        "id": "6tg-CuG7v8Wc"
      }
    },
    {
      "cell_type": "code",
      "source": [
        "idades = [25, 30, 35, 50, 13, 18, 15]\n",
        "\n",
        "def pode_dirigir(idades):\n",
        "  for idade in idades:\n",
        "    if idade >= 18:\n",
        "      print('Pode dirigir!')\n",
        "    else:\n",
        "      print('Não pode dirigir!')\n",
        "\n",
        "pode_dirigir(idades)"
      ],
      "metadata": {
        "colab": {
          "base_uri": "https://localhost:8080/"
        },
        "id": "zWvj1ZJZv_JW",
        "outputId": "d7a8e853-eef8-4a4f-f88a-a8b1b79d4867"
      },
      "execution_count": null,
      "outputs": [
        {
          "output_type": "stream",
          "name": "stdout",
          "text": [
            "Pode dirigir!\n",
            "Pode dirigir!\n",
            "Pode dirigir!\n",
            "Pode dirigir!\n",
            "Não pode dirigir!\n",
            "Pode dirigir!\n",
            "Não pode dirigir!\n"
          ]
        }
      ]
    },
    {
      "cell_type": "markdown",
      "source": [
        "## Boleano"
      ],
      "metadata": {
        "id": "vbwNRUgBwtdP"
      }
    },
    {
      "cell_type": "code",
      "source": [
        "idade = 18"
      ],
      "metadata": {
        "id": "EO_KqQFVwwT-"
      },
      "execution_count": null,
      "outputs": []
    },
    {
      "cell_type": "code",
      "source": [
        "idade == 18"
      ],
      "metadata": {
        "colab": {
          "base_uri": "https://localhost:8080/"
        },
        "id": "1FMizjvUw07w",
        "outputId": "a35f9702-9b0f-4f22-ad77-db16dc322c13"
      },
      "execution_count": null,
      "outputs": [
        {
          "output_type": "execute_result",
          "data": {
            "text/plain": [
              "True"
            ]
          },
          "metadata": {},
          "execution_count": 47
        }
      ]
    },
    {
      "cell_type": "code",
      "source": [
        "idade != 18"
      ],
      "metadata": {
        "colab": {
          "base_uri": "https://localhost:8080/"
        },
        "id": "aKBSN9ljw2Sc",
        "outputId": "66f177c2-92ce-429c-c2bf-78b23f3e954a"
      },
      "execution_count": null,
      "outputs": [
        {
          "output_type": "execute_result",
          "data": {
            "text/plain": [
              "False"
            ]
          },
          "metadata": {},
          "execution_count": 48
        }
      ]
    },
    {
      "cell_type": "code",
      "source": [
        "idades = [15, 30, 27]\n",
        "\n",
        "def maior_de_idade(idades):\n",
        "  resultados = []\n",
        "  \n",
        "  for idade in idades:\n",
        "    if idade >= 18:\n",
        "      resultados.append('True')\n",
        "    else:\n",
        "      resultados.append('False')\n",
        "\n",
        "  return resultados\n",
        "\n",
        "print(maior_de_idade(idades))"
      ],
      "metadata": {
        "colab": {
          "base_uri": "https://localhost:8080/"
        },
        "id": "xZWziLRow48F",
        "outputId": "356b140a-fd64-4b26-e77d-7c6489ec4d6c"
      },
      "execution_count": null,
      "outputs": [
        {
          "output_type": "stream",
          "name": "stdout",
          "text": [
            "['False', 'True', 'True']\n"
          ]
        }
      ]
    },
    {
      "cell_type": "markdown",
      "source": [
        "## Import"
      ],
      "metadata": {
        "id": "0p55bwZi1mOa"
      }
    },
    {
      "cell_type": "code",
      "source": [
        "alunos = [0, 1, 2]\n",
        "notas = [10, 8, 7]\n",
        "\n",
        "alunos[0] = notas\n",
        "alunos.append(notas)\n",
        "alunos"
      ],
      "metadata": {
        "colab": {
          "base_uri": "https://localhost:8080/"
        },
        "id": "E2b-5qk161Sf",
        "outputId": "f33943dd-ae49-49a9-92c5-4a400d5ca102"
      },
      "execution_count": null,
      "outputs": [
        {
          "output_type": "execute_result",
          "data": {
            "text/plain": [
              "[[10, 8, 7], 1, 2, [10, 8, 7]]"
            ]
          },
          "metadata": {},
          "execution_count": 78
        }
      ]
    },
    {
      "cell_type": "code",
      "source": [
        "from random import randrange, seed\n",
        "\n",
        "seed(25)\n",
        "\n",
        "notas_finais = []\n",
        "\n",
        "for aluno in range(0, 5):\n",
        "  \n",
        "  notas_trimestrais = []\n",
        "\n",
        "  for nota in range(0, 8):\n",
        "    notas_trimestrais.append(randrange(3,11))\n",
        "  \n",
        "  notas_finais.append(notas_trimestrais)\n",
        "\n",
        "  notas_trimestrais = []\n",
        "\n",
        "print(notas_finais)"
      ],
      "metadata": {
        "colab": {
          "base_uri": "https://localhost:8080/"
        },
        "id": "qGhKYTQk1lO2",
        "outputId": "6516c857-0f68-439b-939f-901da8928b1d"
      },
      "execution_count": null,
      "outputs": [
        {
          "output_type": "stream",
          "name": "stdout",
          "text": [
            "[[9, 3, 6, 7, 10, 3, 7, 3], [7, 9, 4, 4, 6, 8, 5, 8], [10, 4, 4, 8, 9, 8, 6, 5], [10, 4, 4, 9, 4, 5, 3, 5], [4, 6, 9, 10, 9, 10, 10, 10]]\n"
          ]
        }
      ]
    },
    {
      "cell_type": "markdown",
      "source": [
        "## Matplotlib"
      ],
      "metadata": {
        "id": "mUkG4OmFD_kT"
      }
    },
    {
      "cell_type": "code",
      "source": [
        "import matplotlib.pyplot as plt"
      ],
      "metadata": {
        "id": "Is7hpzbdEDVv"
      },
      "execution_count": null,
      "outputs": []
    },
    {
      "cell_type": "code",
      "source": [
        "x = list(range(1, 9))\n",
        "y = notas_finais[0]\n",
        "\n",
        "plt.plot(x, y, marker='o')\n",
        "plt.title('Notas de Matematica')\n",
        "plt.xlabel('Provas')\n",
        "plt.ylabel('Notas')\n",
        "plt.show()"
      ],
      "metadata": {
        "colab": {
          "base_uri": "https://localhost:8080/",
          "height": 295
        },
        "id": "3bProNcZEYlw",
        "outputId": "68fc8039-73e5-4989-cb05-3fe3899be6ed"
      },
      "execution_count": null,
      "outputs": [
        {
          "output_type": "display_data",
          "data": {
            "image/png": "[encoded data removed]",
            "text/plain": [
              "<Figure size 432x288 with 1 Axes>"
            ]
          },
          "metadata": {
            "needs_background": "light"
          }
        }
      ]
    },
    {
      "cell_type": "code",
      "source": [
        ""
      ],
      "metadata": {
        "id": "d0GYGqmJEmKd"
      },
      "execution_count": null,
      "outputs": []
    }
  ]
}